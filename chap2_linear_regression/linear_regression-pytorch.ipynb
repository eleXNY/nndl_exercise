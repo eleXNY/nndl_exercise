{
 "cells": [
  {
   "cell_type": "code",
   "execution_count": 25,
   "outputs": [],
   "source": [
    "import numpy as np\n",
    "import matplotlib.pyplot as plt\n",
    "import torch\n",
    "import torch.nn as nn"
   ],
   "metadata": {
    "collapsed": false,
    "pycharm": {
     "name": "#%%\n"
    }
   }
  },
  {
   "cell_type": "markdown",
   "source": [
    "## Basis function"
   ],
   "metadata": {
    "collapsed": false
   }
  },
  {
   "cell_type": "code",
   "execution_count": 67,
   "outputs": [],
   "source": [
    "def identity_basis(x):\n",
    "    ret = np.expand_dims(x, axis=1)\n",
    "    return ret\n",
    "\n",
    "def multinomial_basis(x, feature_num=10):\n",
    "    x = np.expand_dims(x, axis=1) # shape(N, 1)\n",
    "    ret = x.copy()\n",
    "    for i in range(feature_num - 1):\n",
    "        poly = np.power(x, i+2)\n",
    "        ret = np.hstack((ret, poly))\n",
    "    return ret\n",
    "\n",
    "def gaussian_basis(x, feature_num=10, width_scale=1.0):\n",
    "    x = np.expand_dims(x, axis=1)\n",
    "    x_c = np.tile(x, (1, feature_num))\n",
    "    mus = np.linspace(0, 25, feature_num)\n",
    "    #mus = np.linspace(x.min(axis=0), x.max(axis=0), feature_num).reshape(-1)\n",
    "    #sigma = (x.max(axis=0) - x.min(axis=0)) / 6\n",
    "    sigma = width_scale * (mus[1] - mus[0])\n",
    "    ret = np.exp(-0.5 * np.square((x_c - mus) / sigma))\n",
    "    return ret"
   ],
   "metadata": {
    "collapsed": false,
    "pycharm": {
     "name": "#%%\n"
    }
   }
  },
  {
   "cell_type": "markdown",
   "source": [
    "## Data Loading"
   ],
   "metadata": {
    "collapsed": false
   }
  },
  {
   "cell_type": "code",
   "execution_count": 68,
   "outputs": [],
   "source": [
    "def load_data(filename, basis_func=gaussian_basis):\n",
    "    \"\"\"载入数据。\"\"\"\n",
    "    xys = []\n",
    "    with open(filename, 'r') as f:\n",
    "        for line in f:\n",
    "            xys.append(map(float, line.strip().split()))\n",
    "        xs, ys = zip(*xys)\n",
    "        xs, ys = np.asarray(xs), np.asarray(ys)\n",
    "\n",
    "        o_x, o_y = xs, ys\n",
    "        phi0 = np.expand_dims(np.ones_like(xs), axis=1)\n",
    "        phi1 = basis_func(xs)\n",
    "        xs = np.concatenate([phi0, phi1], axis=1)\n",
    "        return (np.float32(xs), np.float32(ys)), (o_x, o_y)"
   ],
   "metadata": {
    "collapsed": false,
    "pycharm": {
     "name": "#%%\n"
    }
   }
  },
  {
   "cell_type": "markdown",
   "source": [
    "## Model, Criterion (Loss) & Optimizer"
   ],
   "metadata": {
    "collapsed": false
   }
  },
  {
   "cell_type": "code",
   "execution_count": 69,
   "outputs": [],
   "source": [
    "#in_feat_size = 1\n",
    "#out_size = 1\n",
    "#num_epochs = 6\n",
    "#learning_rate = 1e-4\n",
    "\n",
    "#model = nn.Linear(in_feat_size, out_size)\n",
    "#criterion = nn.MSELoss()\n",
    "#optimizer = torch.optim.Adam(model.parameters(), lr=learning_rate)"
   ],
   "metadata": {
    "collapsed": false,
    "pycharm": {
     "name": "#%%\n"
    }
   }
  },
  {
   "cell_type": "markdown",
   "source": [
    "## Training & Evaluation"
   ],
   "metadata": {
    "collapsed": false
   }
  },
  {
   "cell_type": "code",
   "execution_count": 110,
   "outputs": [],
   "source": [
    "def train(X, y, lr=1e-1, num_epochs=1000, batch_size=32, verbose=True, keep_loss=False):\n",
    "    # data\n",
    "    xs = torch.from_numpy(X)\n",
    "    ys = torch.from_numpy(y)\n",
    "    #ys = torch.unsqueeze(torch.from_numpy(y), 0)\n",
    "    idx = np.arange(xs.shape[0])\n",
    "\n",
    "    in_feat_size = xs.shape[1]\n",
    "    out_size = 1\n",
    "\n",
    "    # model\n",
    "    model = nn.Linear(in_feat_size, out_size)\n",
    "    criterion = nn.MSELoss()\n",
    "    optimizer = torch.optim.Adam(model.parameters(), lr=lr)\n",
    "\n",
    "    # train\n",
    "    losses = []\n",
    "    count = 0\n",
    "    for epoch in range(num_epochs):\n",
    "        np.random.shuffle(idx)\n",
    "        batches = np.array_split(idx, xs.shape[0]//batch_size)\n",
    "        for batch in batches:\n",
    "            out = model(xs[batch])\n",
    "            out = torch.squeeze(out, 1)\n",
    "            loss = criterion(out, ys[batch])\n",
    "\n",
    "            if keep_loss:\n",
    "                losses.append(loss.item())\n",
    "                count += 1\n",
    "\n",
    "            optimizer.zero_grad()\n",
    "            loss.backward()\n",
    "            optimizer.step()\n",
    "\n",
    "        if verbose and (epoch+1) % 100 == 0:\n",
    "            print(f'Epoch {epoch+1}/{num_epochs}, Loss: {loss.item():.4f}.')\n",
    "\n",
    "    if keep_loss:\n",
    "        losses = np.array(losses)\n",
    "\n",
    "    return model, losses, count"
   ],
   "metadata": {
    "collapsed": false,
    "pycharm": {
     "name": "#%%\n"
    }
   }
  },
  {
   "cell_type": "code",
   "execution_count": 111,
   "outputs": [],
   "source": [
    "def predict(model, X, y):\n",
    "    y_pred = model(torch.from_numpy(X))\n",
    "    out = y_pred.detach().numpy()\n",
    "    criterion = nn.MSELoss()\n",
    "    loss = criterion(torch.squeeze(y_pred, 1), torch.from_numpy(y))\n",
    "    std = np.sqrt(loss.item())\n",
    "    return out, std"
   ],
   "metadata": {
    "collapsed": false,
    "pycharm": {
     "name": "#%%\n"
    }
   }
  },
  {
   "cell_type": "code",
   "execution_count": 112,
   "outputs": [
    {
     "name": "stdout",
     "output_type": "stream",
     "text": [
      "Epoch 100/1000, Loss: 3.4044.\n",
      "Epoch 200/1000, Loss: 3.0192.\n",
      "Epoch 300/1000, Loss: 1.6592.\n",
      "Epoch 400/1000, Loss: 1.9260.\n",
      "Epoch 500/1000, Loss: 1.1643.\n",
      "Epoch 600/1000, Loss: 1.0221.\n",
      "Epoch 700/1000, Loss: 0.8328.\n",
      "Epoch 800/1000, Loss: 0.8532.\n",
      "Epoch 900/1000, Loss: 0.3918.\n",
      "Epoch 1000/1000, Loss: 0.3242.\n"
     ]
    },
    {
     "data": {
      "text/plain": "<Figure size 432x288 with 1 Axes>",
      "image/png": "[encoded data removed]"
     },
     "metadata": {
      "needs_background": "light"
     },
     "output_type": "display_data"
    },
    {
     "name": "stdout",
     "output_type": "stream",
     "text": [
      "Standard Deviation of prediction from the real value in TRAINING set: 0.5991\n",
      "Standard Deviation of prediction from the real value in TEST set: 0.7033\n"
     ]
    },
    {
     "data": {
      "text/plain": "<Figure size 432x288 with 1 Axes>",
      "image/png": "[encoded data removed]"
     },
     "metadata": {
      "needs_background": "light"
     },
     "output_type": "display_data"
    },
    {
     "data": {
      "text/plain": "<Figure size 432x288 with 1 Axes>",
      "image/png": "[encoded data removed]"
     },
     "metadata": {
      "needs_background": "light"
     },
     "output_type": "display_data"
    }
   ],
   "source": [
    "# load data\n",
    "(xs, ys), (o_x, o_y) = load_data('train.txt')\n",
    "(xs_test, ys_test), (o_x_test, o_y_test) = load_data('test.txt')\n",
    "\n",
    "# train the model\n",
    "model, losses, count = train(xs, ys, keep_loss=True)\n",
    "plt.plot(np.arange(count)+1, losses)\n",
    "plt.title('Loss')\n",
    "plt.show()\n",
    "\n",
    "# Evaluation\n",
    "y_pred_train, std_train = predict(model, xs, ys)\n",
    "y_pred_test, std_test = predict(model, xs_test, ys_test)\n",
    "\n",
    "print(f'Standard Deviation of prediction from the real value in TRAINING set: {std_train:.4f}')\n",
    "print(f'Standard Deviation of prediction from the real value in TEST set: {std_test:.4f}')\n",
    "\n",
    "plt.plot(o_x, o_y)\n",
    "plt.plot(o_x, y_pred_train)\n",
    "plt.title('Prediction & Real value in Training Set')\n",
    "plt.show()\n",
    "\n",
    "plt.plot(o_x_test, o_y_test)\n",
    "plt.plot(o_x_test, y_pred_test)\n",
    "plt.title('Prediction & Real value in Test Set')\n",
    "plt.show()\n"
   ],
   "metadata": {
    "collapsed": false,
    "pycharm": {
     "name": "#%%\n"
    }
   }
  },
  {
   "cell_type": "code",
   "execution_count": null,
   "outputs": [],
   "source": [],
   "metadata": {
    "collapsed": false,
    "pycharm": {
     "name": "#%%\n"
    }
   }
  }
 ],
 "metadata": {
  "kernelspec": {
   "display_name": "Python 3",
   "language": "python",
   "name": "python3"
  },
  "language_info": {
   "codemirror_mode": {
    "name": "ipython",
    "version": 2
   },
   "file_extension": ".py",
   "mimetype": "text/x-python",
   "name": "python",
   "nbconvert_exporter": "python",
   "pygments_lexer": "ipython2",
   "version": "2.7.6"
  }
 },
 "nbformat": 4,
 "nbformat_minor": 0
}