{
 "cells": [
  {
   "cell_type": "code",
   "execution_count": 1,
   "outputs": [],
   "source": [
    "import numpy as np\n",
    "import matplotlib.pyplot as plt\n",
    "import torch\n",
    "import torch.nn as nn"
   ],
   "metadata": {
    "collapsed": false,
    "pycharm": {
     "name": "#%%\n"
    }
   }
  },
  {
   "cell_type": "markdown",
   "source": [
    "## Basis function"
   ],
   "metadata": {
    "collapsed": false
   }
  },
  {
   "cell_type": "code",
   "execution_count": 146,
   "outputs": [],
   "source": [
    "def identity_basis(x):\n",
    "    ret = np.expand_dims(x, axis=0)\n",
    "    return ret\n",
    "\n",
    "def multinomial_basis(x, feature_num=10):\n",
    "    x = np.expand_dims(x, axis=0)\n",
    "    ret = x.copy()\n",
    "    for i in range(feature_num - 1):\n",
    "        poly = np.power(x, i+2)\n",
    "        ret = np.append(ret, poly)\n",
    "    return ret\n",
    "\n",
    "def gaussian_basis(x, feature_num=10, width_scale=1.0):\n",
    "    x = np.expand_dims(x, axis=0)\n",
    "    x_c = np.tile(x, feature_num)\n",
    "    mus = np.linspace(0, 25, feature_num)\n",
    "    #mus = np.linspace(x.min(axis=0), x.max(axis=0), feature_num).reshape(-1)\n",
    "    #sigma = (x.max(axis=0) - x.min(axis=0)) / 6\n",
    "    sigma = width_scale * (mus[1] - mus[0])\n",
    "    ret = np.exp(-0.5 * np.square((x_c - mus) / sigma))\n",
    "    return ret"
   ],
   "metadata": {
    "collapsed": false,
    "pycharm": {
     "name": "#%%\n"
    }
   }
  },
  {
   "cell_type": "markdown",
   "source": [
    "## Data Loading"
   ],
   "metadata": {
    "collapsed": false
   }
  },
  {
   "cell_type": "code",
   "execution_count": 147,
   "outputs": [],
   "source": [
    "class Dataset(torch.utils.data.Dataset):\n",
    "    def __init__(self, file_path):\n",
    "        super().__init__()\n",
    "        self.file_path = file_path\n",
    "\n",
    "    def __getitem__(self, index, transform=gaussian_basis):\n",
    "        x, y = np.loadtxt(self.file_path)[index]\n",
    "        x = transform(x)\n",
    "        x = torch.FloatTensor(x)\n",
    "        y = np.expand_dims(y, axis=0)\n",
    "        y = torch.FloatTensor(y)\n",
    "        return x, y\n",
    "\n",
    "    def __len__(self):\n",
    "        return np.loadtxt(self.file_path).shape[0]"
   ],
   "metadata": {
    "collapsed": false,
    "pycharm": {
     "name": "#%%\n"
    }
   }
  },
  {
   "cell_type": "code",
   "execution_count": 148,
   "outputs": [],
   "source": [
    "train_dataset = Dataset('train.txt')\n",
    "train_loader = torch.utils.data.DataLoader(dataset=train_dataset,\n",
    "                                           batch_size=32,\n",
    "                                           shuffle=True)\n",
    "\n",
    "test_dataset = Dataset('test.txt')\n",
    "test_loader = torch.utils.data.DataLoader(dataset=test_dataset,\n",
    "                                           batch_size=None,\n",
    "                                           shuffle=False)\n",
    "\n",
    "train_dsp_loader = torch.utils.data.DataLoader(dataset=train_dataset,\n",
    "                                               batch_size=None,\n",
    "                                               shuffle=False)"
   ],
   "metadata": {
    "collapsed": false,
    "pycharm": {
     "name": "#%%\n"
    }
   }
  },
  {
   "cell_type": "markdown",
   "source": [
    "## Model, Criterion (Loss) & Optimizer"
   ],
   "metadata": {
    "collapsed": false
   }
  },
  {
   "cell_type": "code",
   "execution_count": 150,
   "outputs": [],
   "source": [
    "in_feat_size = train_dataset[0][0].shape[0]\n",
    "out_size = 1\n",
    "num_epochs = 1000\n",
    "learning_rate = 1e-1\n",
    "\n",
    "model = nn.Linear(in_feat_size, out_size)\n",
    "criterion = nn.MSELoss()\n",
    "optimizer = torch.optim.Adam(model.parameters(), lr=learning_rate)"
   ],
   "metadata": {
    "collapsed": false,
    "pycharm": {
     "name": "#%%\n"
    }
   }
  },
  {
   "cell_type": "markdown",
   "source": [
    "## Training & Evaluation"
   ],
   "metadata": {
    "collapsed": false
   }
  },
  {
   "cell_type": "code",
   "execution_count": 151,
   "outputs": [
    {
     "name": "stdout",
     "output_type": "stream",
     "text": [
      "Epoch 100/1000, Loss: 2.7518.\n",
      "Epoch 200/1000, Loss: 2.3919.\n",
      "Epoch 300/1000, Loss: 1.8879.\n",
      "Epoch 400/1000, Loss: 1.2583.\n",
      "Epoch 500/1000, Loss: 1.1469.\n",
      "Epoch 600/1000, Loss: 0.8117.\n",
      "Epoch 700/1000, Loss: 0.7981.\n",
      "Epoch 800/1000, Loss: 0.4330.\n",
      "Epoch 900/1000, Loss: 0.5245.\n",
      "Epoch 1000/1000, Loss: 0.7042.\n"
     ]
    }
   ],
   "source": [
    "losses = []\n",
    "count = 0\n",
    "\n",
    "for epoch in range(num_epochs):\n",
    "    for x, y in train_loader:\n",
    "        out = model(x)\n",
    "\n",
    "        loss = criterion(out, y)\n",
    "        losses.append(loss.item())\n",
    "        count += 1\n",
    "\n",
    "        optimizer.zero_grad()\n",
    "        loss.backward()\n",
    "        optimizer.step()\n",
    "\n",
    "    if (epoch+1) % 100 == 0:\n",
    "        print(f'Epoch {epoch+1}/{num_epochs}, Loss: {loss.item():.4f}.')\n",
    "\n",
    "losses = np.array(losses)"
   ],
   "metadata": {
    "collapsed": false,
    "pycharm": {
     "name": "#%%\n"
    }
   }
  },
  {
   "cell_type": "code",
   "execution_count": 153,
   "outputs": [
    {
     "data": {
      "text/plain": "<Figure size 432x288 with 1 Axes>",
      "image/png": "[encoded data removed]"
     },
     "metadata": {
      "needs_background": "light"
     },
     "output_type": "display_data"
    }
   ],
   "source": [
    "plt.plot(np.arange(count)+1, losses)\n",
    "plt.title('Loss')\n",
    "plt.show()"
   ],
   "metadata": {
    "collapsed": false,
    "pycharm": {
     "name": "#%%\n"
    }
   }
  },
  {
   "cell_type": "code",
   "execution_count": 154,
   "outputs": [],
   "source": [
    "def get_std_pred(model, data_loader):\n",
    "    num_samples = 0\n",
    "    acc_loss = 0\n",
    "    preds = []\n",
    "    with torch.no_grad():\n",
    "        for x, y in data_loader:\n",
    "            num_samples += 1\n",
    "            y_pred = model(x)\n",
    "            preds.append(y_pred.numpy())\n",
    "            loss = criterion(y_pred, y)\n",
    "            acc_loss += loss.item()\n",
    "\n",
    "    std = np.sqrt(acc_loss/num_samples)\n",
    "    preds = np.array(preds)\n",
    "\n",
    "    return std, preds"
   ],
   "metadata": {
    "collapsed": false,
    "pycharm": {
     "name": "#%%\n"
    }
   }
  },
  {
   "cell_type": "code",
   "execution_count": 155,
   "outputs": [
    {
     "name": "stdout",
     "output_type": "stream",
     "text": [
      "Standard Deviation of prediction from the real value in  TRAINING  set: 0.5680\n",
      "Standard Deviation of prediction from the real value in    TEST    set: 0.6775\n"
     ]
    }
   ],
   "source": [
    "std_train, pred_train = get_std_pred(model, train_dsp_loader)\n",
    "std_test, pred_test = get_std_pred(model, test_loader)\n",
    "\n",
    "print(f'Standard Deviation of prediction from the real value in {\"TRAINING\":^10} set: {std_train:.4f}')\n",
    "print(f'Standard Deviation of prediction from the real value in {\"TEST\":^10} set: {std_test:.4f}')"
   ],
   "metadata": {
    "collapsed": false,
    "pycharm": {
     "name": "#%%\n"
    }
   }
  },
  {
   "cell_type": "markdown",
   "source": [
    "Visualization\n"
   ],
   "metadata": {
    "collapsed": false,
    "pycharm": {
     "name": "#%% md\n"
    }
   }
  },
  {
   "cell_type": "code",
   "execution_count": 156,
   "outputs": [
    {
     "data": {
      "text/plain": "<Figure size 432x288 with 1 Axes>",
      "image/png": "[encoded data removed]"
     },
     "metadata": {
      "needs_background": "light"
     },
     "output_type": "display_data"
    },
    {
     "data": {
      "text/plain": "<Figure size 432x288 with 1 Axes>",
      "image/png": "[encoded data removed]"
     },
     "metadata": {
      "needs_background": "light"
     },
     "output_type": "display_data"
    }
   ],
   "source": [
    "o_x_train = np.loadtxt('train.txt')[:,0]\n",
    "y_train = np.loadtxt('train.txt')[:,1]\n",
    "\n",
    "o_x_test = np.loadtxt('test.txt')[:,0]\n",
    "y_test = np.loadtxt('test.txt')[:,1]\n",
    "\n",
    "plt.plot(o_x_train, y_train)\n",
    "plt.plot(o_x_train, pred_train)\n",
    "plt.title('Prediction & Real value in Training Set')\n",
    "plt.show()\n",
    "\n",
    "plt.plot(o_x_test, y_test)\n",
    "plt.plot(o_x_test, pred_test)\n",
    "plt.title('Prediction & Real value in Test Set')\n",
    "plt.show()"
   ],
   "metadata": {
    "collapsed": false,
    "pycharm": {
     "name": "#%%\n"
    }
   }
  },
  {
   "cell_type": "code",
   "execution_count": null,
   "outputs": [],
   "source": [],
   "metadata": {
    "collapsed": false,
    "pycharm": {
     "name": "#%%\n"
    }
   }
  }
 ],
 "metadata": {
  "kernelspec": {
   "display_name": "Python 3",
   "language": "python",
   "name": "python3"
  },
  "language_info": {
   "codemirror_mode": {
    "name": "ipython",
    "version": 2
   },
   "file_extension": ".py",
   "mimetype": "text/x-python",
   "name": "python",
   "nbconvert_exporter": "python",
   "pygments_lexer": "ipython2",
   "version": "2.7.6"
  }
 },
 "nbformat": 4,
 "nbformat_minor": 0
}